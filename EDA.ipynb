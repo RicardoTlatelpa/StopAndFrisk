{
 "cells": [
  {
   "cell_type": "code",
   "execution_count": 13,
   "metadata": {},
   "outputs": [
    {
     "name": "stdout",
     "output_type": "stream",
     "text": [
      "Number of unique values: 1685\n",
      "Unique values: ['FLED ON FOOT' nan 'NERVOUS CHANGING DIRECTION FROM OFFICERS RUNNING' ...\n",
      " 'IRRITATED CONFUSED' 'AGITATED AND THEN CALM' 'ANNOYED NON COMPLIANT']\n"
     ]
    },
    {
     "ename": "KeyError",
     "evalue": "       0elusional  911  abandoned  abnormal  about  abrasive  accepting  \\\n0               0    0          0         0      0         0          0   \n1               0    0          0         0      0         0          0   \n2               0    0          0         0      0         0          0   \n3               0    0          0         0      0         0          0   \n4               0    0          0         0      0         0          0   \n...           ...  ...        ...       ...    ...       ...        ...   \n15097           0    0          0         0      0         0          0   \n15098           0    0          0         0      0         0          0   \n15099           0    0          0         0      0         0          0   \n15100           0    0          0         0      0         0          0   \n15101           0    0          0         0      0         0          0   \n\n       acted  acting  active  ...  winded  with  without  words  worked  \\\n0          0       0       0  ...       0     0        0      0       0   \n1          0       0       0  ...       0     0        0      0       0   \n2          0       0       0  ...       0     0        0      0       0   \n3          0       0       0  ...       0     0        0      0       0   \n4          0       0       0  ...       0     0        0      0       0   \n...      ...     ...     ...  ...     ...   ...      ...    ...     ...   \n15097      0       0       0  ...       0     0        0      0       0   \n15098      0       0       0  ...       0     0        0      0       0   \n15099      0       0       0  ...       0     0        0      0       0   \n15100      0       0       0  ...       0     0        0      0       0   \n15101      0       0       0  ...       0     0        0      0       0   \n\n       worried  worry  yelling  yes  you  \n0            0      0        0    0    0  \n1            0      0        0    0    0  \n2            0      0        0    0    0  \n3            0      0        0    0    0  \n4            0      0        0    0    0  \n...        ...    ...      ...  ...  ...  \n15097        0      0        0    0    0  \n15098        0      0        0    0    0  \n15099        0      0        0    0    0  \n15100        0      0        0    0    0  \n15101        0      0        0    0    0  \n\n[15102 rows x 896 columns]",
     "output_type": "error",
     "traceback": [
      "\u001b[0;31m---------------------------------------------------------------------------\u001b[0m",
      "\u001b[0;31mKeyError\u001b[0m                                  Traceback (most recent call last)",
      "\u001b[0;32m/var/folders/l0/dqqn7htx52gbmyf1bnbpby0m0000gn/T/ipykernel_1901/1039425185.py\u001b[0m in \u001b[0;36m<module>\u001b[0;34m\u001b[0m\n\u001b[1;32m     45\u001b[0m \u001b[0;34m\u001b[0m\u001b[0m\n\u001b[1;32m     46\u001b[0m \u001b[0;31m# join the one-hot encoded columns to the original dataframe\u001b[0m\u001b[0;34m\u001b[0m\u001b[0;34m\u001b[0m\u001b[0m\n\u001b[0;32m---> 47\u001b[0;31m \u001b[0mTable1\u001b[0m \u001b[0;34m=\u001b[0m \u001b[0mTable1\u001b[0m\u001b[0;34m.\u001b[0m\u001b[0mjoin\u001b[0m\u001b[0;34m(\u001b[0m\u001b[0mLabel_df\u001b[0m\u001b[0;34m,\u001b[0m\u001b[0mBOW_df\u001b[0m\u001b[0;34m)\u001b[0m\u001b[0;34m\u001b[0m\u001b[0;34m\u001b[0m\u001b[0m\n\u001b[0m\u001b[1;32m     48\u001b[0m \u001b[0;31m#Table1 = pd.concat([Table1, Label_df], axis=1)\u001b[0m\u001b[0;34m\u001b[0m\u001b[0;34m\u001b[0m\u001b[0m\n\u001b[1;32m     49\u001b[0m \u001b[0;34m\u001b[0m\u001b[0m\n",
      "\u001b[0;32m~/opt/anaconda3/lib/python3.9/site-packages/pandas/core/frame.py\u001b[0m in \u001b[0;36mjoin\u001b[0;34m(self, other, on, how, lsuffix, rsuffix, sort)\u001b[0m\n\u001b[1;32m   9261\u001b[0m         \u001b[0;36m5\u001b[0m  \u001b[0mK1\u001b[0m  \u001b[0mA5\u001b[0m   \u001b[0mB1\u001b[0m\u001b[0;34m\u001b[0m\u001b[0;34m\u001b[0m\u001b[0m\n\u001b[1;32m   9262\u001b[0m         \"\"\"\n\u001b[0;32m-> 9263\u001b[0;31m         return self._join_compat(\n\u001b[0m\u001b[1;32m   9264\u001b[0m             \u001b[0mother\u001b[0m\u001b[0;34m,\u001b[0m \u001b[0mon\u001b[0m\u001b[0;34m=\u001b[0m\u001b[0mon\u001b[0m\u001b[0;34m,\u001b[0m \u001b[0mhow\u001b[0m\u001b[0;34m=\u001b[0m\u001b[0mhow\u001b[0m\u001b[0;34m,\u001b[0m \u001b[0mlsuffix\u001b[0m\u001b[0;34m=\u001b[0m\u001b[0mlsuffix\u001b[0m\u001b[0;34m,\u001b[0m \u001b[0mrsuffix\u001b[0m\u001b[0;34m=\u001b[0m\u001b[0mrsuffix\u001b[0m\u001b[0;34m,\u001b[0m \u001b[0msort\u001b[0m\u001b[0;34m=\u001b[0m\u001b[0msort\u001b[0m\u001b[0;34m\u001b[0m\u001b[0;34m\u001b[0m\u001b[0m\n\u001b[1;32m   9265\u001b[0m         )\n",
      "\u001b[0;32m~/opt/anaconda3/lib/python3.9/site-packages/pandas/core/frame.py\u001b[0m in \u001b[0;36m_join_compat\u001b[0;34m(self, other, on, how, lsuffix, rsuffix, sort)\u001b[0m\n\u001b[1;32m   9292\u001b[0m                     \u001b[0msort\u001b[0m\u001b[0;34m=\u001b[0m\u001b[0msort\u001b[0m\u001b[0;34m,\u001b[0m\u001b[0;34m\u001b[0m\u001b[0;34m\u001b[0m\u001b[0m\n\u001b[1;32m   9293\u001b[0m                 )\n\u001b[0;32m-> 9294\u001b[0;31m             return merge(\n\u001b[0m\u001b[1;32m   9295\u001b[0m                 \u001b[0mself\u001b[0m\u001b[0;34m,\u001b[0m\u001b[0;34m\u001b[0m\u001b[0;34m\u001b[0m\u001b[0m\n\u001b[1;32m   9296\u001b[0m                 \u001b[0mother\u001b[0m\u001b[0;34m,\u001b[0m\u001b[0;34m\u001b[0m\u001b[0;34m\u001b[0m\u001b[0m\n",
      "\u001b[0;32m~/opt/anaconda3/lib/python3.9/site-packages/pandas/core/reshape/merge.py\u001b[0m in \u001b[0;36mmerge\u001b[0;34m(left, right, how, on, left_on, right_on, left_index, right_index, sort, suffixes, copy, indicator, validate)\u001b[0m\n\u001b[1;32m    105\u001b[0m     \u001b[0mvalidate\u001b[0m\u001b[0;34m:\u001b[0m \u001b[0mstr\u001b[0m \u001b[0;34m|\u001b[0m \u001b[0;32mNone\u001b[0m \u001b[0;34m=\u001b[0m \u001b[0;32mNone\u001b[0m\u001b[0;34m,\u001b[0m\u001b[0;34m\u001b[0m\u001b[0;34m\u001b[0m\u001b[0m\n\u001b[1;32m    106\u001b[0m ) -> DataFrame:\n\u001b[0;32m--> 107\u001b[0;31m     op = _MergeOperation(\n\u001b[0m\u001b[1;32m    108\u001b[0m         \u001b[0mleft\u001b[0m\u001b[0;34m,\u001b[0m\u001b[0;34m\u001b[0m\u001b[0;34m\u001b[0m\u001b[0m\n\u001b[1;32m    109\u001b[0m         \u001b[0mright\u001b[0m\u001b[0;34m,\u001b[0m\u001b[0;34m\u001b[0m\u001b[0;34m\u001b[0m\u001b[0m\n",
      "\u001b[0;32m~/opt/anaconda3/lib/python3.9/site-packages/pandas/core/reshape/merge.py\u001b[0m in \u001b[0;36m__init__\u001b[0;34m(self, left, right, how, on, left_on, right_on, axis, left_index, right_index, sort, suffixes, copy, indicator, validate)\u001b[0m\n\u001b[1;32m    698\u001b[0m             \u001b[0mself\u001b[0m\u001b[0;34m.\u001b[0m\u001b[0mright_join_keys\u001b[0m\u001b[0;34m,\u001b[0m\u001b[0;34m\u001b[0m\u001b[0;34m\u001b[0m\u001b[0m\n\u001b[1;32m    699\u001b[0m             \u001b[0mself\u001b[0m\u001b[0;34m.\u001b[0m\u001b[0mjoin_names\u001b[0m\u001b[0;34m,\u001b[0m\u001b[0;34m\u001b[0m\u001b[0;34m\u001b[0m\u001b[0m\n\u001b[0;32m--> 700\u001b[0;31m         ) = self._get_merge_keys()\n\u001b[0m\u001b[1;32m    701\u001b[0m \u001b[0;34m\u001b[0m\u001b[0m\n\u001b[1;32m    702\u001b[0m         \u001b[0;31m# validate the merge keys dtypes. We may need to coerce\u001b[0m\u001b[0;34m\u001b[0m\u001b[0;34m\u001b[0m\u001b[0m\n",
      "\u001b[0;32m~/opt/anaconda3/lib/python3.9/site-packages/pandas/core/reshape/merge.py\u001b[0m in \u001b[0;36m_get_merge_keys\u001b[0;34m(self)\u001b[0m\n\u001b[1;32m   1120\u001b[0m                     \u001b[0mjoin_names\u001b[0m\u001b[0;34m.\u001b[0m\u001b[0mappend\u001b[0m\u001b[0;34m(\u001b[0m\u001b[0;32mNone\u001b[0m\u001b[0;34m)\u001b[0m\u001b[0;34m\u001b[0m\u001b[0;34m\u001b[0m\u001b[0m\n\u001b[1;32m   1121\u001b[0m                 \u001b[0;32melse\u001b[0m\u001b[0;34m:\u001b[0m\u001b[0;34m\u001b[0m\u001b[0;34m\u001b[0m\u001b[0m\n\u001b[0;32m-> 1122\u001b[0;31m                     \u001b[0mleft_keys\u001b[0m\u001b[0;34m.\u001b[0m\u001b[0mappend\u001b[0m\u001b[0;34m(\u001b[0m\u001b[0mleft\u001b[0m\u001b[0;34m.\u001b[0m\u001b[0m_get_label_or_level_values\u001b[0m\u001b[0;34m(\u001b[0m\u001b[0mk\u001b[0m\u001b[0;34m)\u001b[0m\u001b[0;34m)\u001b[0m\u001b[0;34m\u001b[0m\u001b[0;34m\u001b[0m\u001b[0m\n\u001b[0m\u001b[1;32m   1123\u001b[0m                     \u001b[0mjoin_names\u001b[0m\u001b[0;34m.\u001b[0m\u001b[0mappend\u001b[0m\u001b[0;34m(\u001b[0m\u001b[0mk\u001b[0m\u001b[0;34m)\u001b[0m\u001b[0;34m\u001b[0m\u001b[0;34m\u001b[0m\u001b[0m\n\u001b[1;32m   1124\u001b[0m             \u001b[0;32mif\u001b[0m \u001b[0misinstance\u001b[0m\u001b[0;34m(\u001b[0m\u001b[0mself\u001b[0m\u001b[0;34m.\u001b[0m\u001b[0mright\u001b[0m\u001b[0;34m.\u001b[0m\u001b[0mindex\u001b[0m\u001b[0;34m,\u001b[0m \u001b[0mMultiIndex\u001b[0m\u001b[0;34m)\u001b[0m\u001b[0;34m:\u001b[0m\u001b[0;34m\u001b[0m\u001b[0;34m\u001b[0m\u001b[0m\n",
      "\u001b[0;32m~/opt/anaconda3/lib/python3.9/site-packages/pandas/core/generic.py\u001b[0m in \u001b[0;36m_get_label_or_level_values\u001b[0;34m(self, key, axis)\u001b[0m\n\u001b[1;32m   1838\u001b[0m             \u001b[0mvalues\u001b[0m \u001b[0;34m=\u001b[0m \u001b[0mself\u001b[0m\u001b[0;34m.\u001b[0m\u001b[0maxes\u001b[0m\u001b[0;34m[\u001b[0m\u001b[0maxis\u001b[0m\u001b[0;34m]\u001b[0m\u001b[0;34m.\u001b[0m\u001b[0mget_level_values\u001b[0m\u001b[0;34m(\u001b[0m\u001b[0mkey\u001b[0m\u001b[0;34m)\u001b[0m\u001b[0;34m.\u001b[0m\u001b[0m_values\u001b[0m\u001b[0;34m\u001b[0m\u001b[0;34m\u001b[0m\u001b[0m\n\u001b[1;32m   1839\u001b[0m         \u001b[0;32melse\u001b[0m\u001b[0;34m:\u001b[0m\u001b[0;34m\u001b[0m\u001b[0;34m\u001b[0m\u001b[0m\n\u001b[0;32m-> 1840\u001b[0;31m             \u001b[0;32mraise\u001b[0m \u001b[0mKeyError\u001b[0m\u001b[0;34m(\u001b[0m\u001b[0mkey\u001b[0m\u001b[0;34m)\u001b[0m\u001b[0;34m\u001b[0m\u001b[0;34m\u001b[0m\u001b[0m\n\u001b[0m\u001b[1;32m   1841\u001b[0m \u001b[0;34m\u001b[0m\u001b[0m\n\u001b[1;32m   1842\u001b[0m         \u001b[0;31m# Check for duplicates\u001b[0m\u001b[0;34m\u001b[0m\u001b[0;34m\u001b[0m\u001b[0m\n",
      "\u001b[0;31mKeyError\u001b[0m:        0elusional  911  abandoned  abnormal  about  abrasive  accepting  \\\n0               0    0          0         0      0         0          0   \n1               0    0          0         0      0         0          0   \n2               0    0          0         0      0         0          0   \n3               0    0          0         0      0         0          0   \n4               0    0          0         0      0         0          0   \n...           ...  ...        ...       ...    ...       ...        ...   \n15097           0    0          0         0      0         0          0   \n15098           0    0          0         0      0         0          0   \n15099           0    0          0         0      0         0          0   \n15100           0    0          0         0      0         0          0   \n15101           0    0          0         0      0         0          0   \n\n       acted  acting  active  ...  winded  with  without  words  worked  \\\n0          0       0       0  ...       0     0        0      0       0   \n1          0       0       0  ...       0     0        0      0       0   \n2          0       0       0  ...       0     0        0      0       0   \n3          0       0       0  ...       0     0        0      0       0   \n4          0       0       0  ...       0     0        0      0       0   \n...      ...     ...     ...  ...     ...   ...      ...    ...     ...   \n15097      0       0       0  ...       0     0        0      0       0   \n15098      0       0       0  ...       0     0        0      0       0   \n15099      0       0       0  ...       0     0        0      0       0   \n15100      0       0       0  ...       0     0        0      0       0   \n15101      0       0       0  ...       0     0        0      0       0   \n\n       worried  worry  yelling  yes  you  \n0            0      0        0    0    0  \n1            0      0        0    0    0  \n2            0      0        0    0    0  \n3            0      0        0    0    0  \n4            0      0        0    0    0  \n...        ...    ...      ...  ...  ...  \n15097        0      0        0    0    0  \n15098        0      0        0    0    0  \n15099        0      0        0    0    0  \n15100        0      0        0    0    0  \n15101        0      0        0    0    0  \n\n[15102 rows x 896 columns]"
     ]
    }
   ],
   "source": [
    "import pandas as pd\n",
    "import numpy as np\n",
    "import matplotlib.pyplot as plt\n",
    "from sklearn.preprocessing import LabelBinarizer\n",
    "from sklearn.preprocessing import OneHotEncoder, LabelEncoder\n",
    "from sklearn.model_selection import train_test_split\n",
    "from sklearn.feature_extraction.text import CountVectorizer\n",
    "\n",
    "#ssss\n",
    "Table1_target = [\"SUSPECT_ARRESTED_FLAG\", \"STOP_WAS_INITIATED\",\n",
    "                 \"OBSERVED_DURATION_MINUTES\", \"SUSPECTED_CRIME_DESCRIPTION\",\n",
    "                 \"STOP_DURATION_MINUTES\", \"FIREARM_FLAG\",\n",
    "                 \"SUSPECT_RACE_DESCRIPTION\", \"SUSPECT_HEIGHT\",\n",
    "                 \"DEMEANOR_OF_PERSON_STOPPED\", \"SUSPECT_BODY_BUILD_TYPE\"]\n",
    "\n",
    "\n",
    "\n",
    "Table1 = pd.read_excel(\"sqf2022.xlsx\", usecols=Table1_target)\n",
    "\n",
    "#replace (null) in fire arm flag with No, so it wouldn't cause problem if we want to remove \n",
    "# (null) that represent missing value\n",
    "Table1['FIREARM_FLAG'] = Table1['FIREARM_FLAG'].replace('(null)', 'No')\n",
    "\n",
    "n_unique = Table1['DEMEANOR_OF_PERSON_STOPPED'].nunique()\n",
    "unique_values = Table1['DEMEANOR_OF_PERSON_STOPPED'].unique()\n",
    "print(f'Number of unique values: {n_unique}')\n",
    "print(f'Unique values: {unique_values}')\n",
    "\n",
    "\n",
    "#Binarize\n",
    "lb = LabelBinarizer()\n",
    "Table1[\"SUSPECT_ARRESTED_FLAG\"] = lb.fit_transform(Table1[\"SUSPECT_ARRESTED_FLAG\"])\n",
    "Table1[\"FIREARM_FLAG\"] = lb.fit_transform(Table1[\"FIREARM_FLAG\"])\n",
    "\n",
    "#Bag-of-word Incomplete!\n",
    "Table1[\"DEMEANOR_OF_PERSON_STOPPED\"].fillna(\"Calm\", inplace=True)\n",
    "vectorizer = CountVectorizer()\n",
    "BOW_trans = vectorizer.fit_transform(Table1[\"DEMEANOR_OF_PERSON_STOPPED\"])\n",
    "BOW_df = pd.DataFrame(BOW_trans.toarray(), columns=vectorizer.get_feature_names_out())\n",
    "\n",
    "#Lable encodeing\n",
    "Label_Encode_feature = [\"SUSPECT_RACE_DESCRIPTION\",\"SUSPECTED_CRIME_DESCRIPTION\",\"STOP_WAS_INITIATED\"]\n",
    "Label_En = OneHotEncoder(handle_unknown=\"ignore\")\n",
    "Feature_Encoded = Label_En.fit_transform(Table1[Label_Encode_feature])\n",
    "Label_df = pd.DataFrame(Feature_Encoded.toarray(), columns=Label_En.get_feature_names_out(Label_Encode_feature))\n",
    "#Labeled_columns = Label_En.get_feature_names(Label_Encode_feature)\n",
    "\n",
    "# join the one-hot encoded columns to the original dataframe\n",
    "#Table1 = Table1.join(Label_df,BOW_df)\n",
    "Table1 = pd.concat([Table1, Label_df], axis=1)\n",
    "\n",
    "# drop the original categorical feature column\n",
    "Table1 = Table1.drop(columns=Label_Encode_feature)\n",
    "#Table1 = Table1.drop(columns=\"DEMEANOR_OF_PERSON_STOPPED\")\n",
    "# print the updated dataframe\n",
    "print(Table1)\n",
    "\n",
    "\n",
    "# save the updated dataframe to a CSV file\n",
    "Table1.to_csv('output.csv', index=False)"
   ]
  }
 ],
 "metadata": {
  "kernelspec": {
   "display_name": "Python 3",
   "language": "python",
   "name": "python3"
  },
  "language_info": {
   "codemirror_mode": {
    "name": "ipython",
    "version": 3
   },
   "file_extension": ".py",
   "mimetype": "text/x-python",
   "name": "python",
   "nbconvert_exporter": "python",
   "pygments_lexer": "ipython3",
   "version": "3.9.13"
  },
  "orig_nbformat": 4
 },
 "nbformat": 4,
 "nbformat_minor": 2
}
