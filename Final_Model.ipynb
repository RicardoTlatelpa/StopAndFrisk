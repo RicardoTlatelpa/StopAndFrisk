{
 "cells": [
  {
   "cell_type": "code",
   "execution_count": 1,
   "metadata": {},
   "outputs": [],
   "source": [
    "import pandas as pd\n",
    "import numpy as np\n",
    "import matplotlib.pyplot as plt\n",
    "from sklearn.preprocessing import LabelBinarizer\n",
    "from sklearn.preprocessing import OneHotEncoder, LabelEncoder\n",
    "from sklearn.model_selection import train_test_split\n",
    "from sklearn.linear_model import LinearRegression\n",
    "from sklearn.dummy import DummyClassifier\n",
    "from sklearn.metrics import mean_squared_error\n",
    "from sklearn.feature_extraction.text import CountVectorizer\n",
    "from sklearn.ensemble import RandomForestClassifier\n",
    "from sklearn.metrics import accuracy_score\n",
    "from sklearn.naive_bayes import MultinomialNB\n",
    "from scipy.stats import shapiro, normaltest\n",
    "import scipy.stats as stats\n",
    "import matplotlib.pyplot as plt\n",
    "from sklearn.preprocessing import MinMaxScaler\n",
    "\n",
    "# for ensemble method use\n",
    "from sklearn.model_selection import cross_val_score\n",
    "from sklearn.linear_model import LogisticRegression\n",
    "from sklearn.tree import DecisionTreeClassifier\n",
    "from sklearn.ensemble import VotingClassifier\n",
    "from sklearn.ensemble import GradientBoostingClassifier\n",
    "from sklearn.feature_selection import SelectKBest,f_classif\n",
    "from sklearn.feature_selection import chi2\n",
    "from imblearn.over_sampling import SMOTE\n",
    "from vaderSentiment.vaderSentiment import SentimentIntensityAnalyzer\n",
    "\n",
    "\n",
    "#TO DO-\n",
    "#One-R\n",
    "# sampling SOMTE\n",
    "\n",
    "\n",
    "# height removed\n",
    "Test_Target = [\"SUSPECT_ARRESTED_FLAG\", \"STOP_WAS_INITIATED\",\n",
    "                 \"OBSERVED_DURATION_MINUTES\", \"SUSPECTED_CRIME_DESCRIPTION\",\n",
    "                 \"STOP_DURATION_MINUTES\", \"FIREARM_FLAG\",\n",
    "                 \"SUSPECT_RACE_DESCRIPTION\",\n",
    "                 \"DEMEANOR_OF_PERSON_STOPPED\", \"SUSPECT_BODY_BUILD_TYPE\",\"FRISKED_FLAG\",\"SEARCHED_FLAG\",\"STOP_LOCATION_BORO_NAME\"]\n",
    "Test1 = pd.read_excel(\"sqf2022.xlsx\", usecols=Test_Target)\n"
   ]
  },
  {
   "cell_type": "code",
   "execution_count": 2,
   "metadata": {},
   "outputs": [
    {
     "data": {
      "text/plain": [
       "1907"
      ]
     },
     "execution_count": 2,
     "metadata": {},
     "output_type": "execute_result"
    }
   ],
   "source": [
    "Test1[\"DEMEANOR_OF_PERSON_STOPPED\"].isnull().sum()\n",
    "# check if null value are labeled as arrested or not\n",
    "# if corealated with any other feature"
   ]
  },
  {
   "cell_type": "code",
   "execution_count": 3,
   "metadata": {},
   "outputs": [
    {
     "name": "stdout",
     "output_type": "stream",
     "text": [
      "15102\n"
     ]
    }
   ],
   "source": [
    "Test1[\"DEMEANOR_OF_PERSON_STOPPED\"] = Test1[\"DEMEANOR_OF_PERSON_STOPPED\"].fillna(value='neutral')\n",
    "print(len(Test1[\"DEMEANOR_OF_PERSON_STOPPED\"]))\n",
    "#Test1['DEMEANOR_OF_PERSON_STOPPED'].applymap(lambda x: x.lower())\n"
   ]
  },
  {
   "cell_type": "code",
   "execution_count": 4,
   "metadata": {},
   "outputs": [],
   "source": [
    "analyzer = SentimentIntensityAnalyzer()\n",
    "dataa = Test1['DEMEANOR_OF_PERSON_STOPPED'].tolist()\n",
    "data = [ analyzer.polarity_scores(element)['compound'] for element in dataa]"
   ]
  },
  {
   "cell_type": "code",
   "execution_count": 5,
   "metadata": {},
   "outputs": [],
   "source": [
    "new=[]\n",
    "for pair in data:\n",
    "    new.append(pair)\n",
    "\n",
    "#append the 'new' list back to original df\n",
    "Test1['SENTIMENT_SCORE'] = new\n",
    "\n",
    "# Create an instance of MinMaxScaler\n",
    "scaler = MinMaxScaler(feature_range=(0, 1))\n",
    "\n",
    "# Fit the scaler to the data and transform the column\n",
    "Test1['SENTIMENT_SCORE'] = scaler.fit_transform(Test1[['SENTIMENT_SCORE']])"
   ]
  },
  {
   "cell_type": "code",
   "execution_count": 6,
   "metadata": {},
   "outputs": [
    {
     "data": {
      "text/plain": [
       "Index(['STOP_WAS_INITIATED', 'OBSERVED_DURATION_MINUTES',\n",
       "       'SUSPECTED_CRIME_DESCRIPTION', 'STOP_DURATION_MINUTES',\n",
       "       'SUSPECT_ARRESTED_FLAG', 'FRISKED_FLAG', 'SEARCHED_FLAG',\n",
       "       'FIREARM_FLAG', 'DEMEANOR_OF_PERSON_STOPPED',\n",
       "       'SUSPECT_RACE_DESCRIPTION', 'SUSPECT_BODY_BUILD_TYPE',\n",
       "       'STOP_LOCATION_BORO_NAME', 'SENTIMENT_SCORE'],\n",
       "      dtype='object')"
      ]
     },
     "execution_count": 6,
     "metadata": {},
     "output_type": "execute_result"
    }
   ],
   "source": [
    "Test1.columns"
   ]
  },
  {
   "cell_type": "code",
   "execution_count": 7,
   "metadata": {},
   "outputs": [
    {
     "data": {
      "text/html": [
       "<div>\n",
       "<style scoped>\n",
       "    .dataframe tbody tr th:only-of-type {\n",
       "        vertical-align: middle;\n",
       "    }\n",
       "\n",
       "    .dataframe tbody tr th {\n",
       "        vertical-align: top;\n",
       "    }\n",
       "\n",
       "    .dataframe thead th {\n",
       "        text-align: right;\n",
       "    }\n",
       "</style>\n",
       "<table border=\"1\" class=\"dataframe\">\n",
       "  <thead>\n",
       "    <tr style=\"text-align: right;\">\n",
       "      <th></th>\n",
       "      <th>STOP_WAS_INITIATED</th>\n",
       "      <th>OBSERVED_DURATION_MINUTES</th>\n",
       "      <th>SUSPECTED_CRIME_DESCRIPTION</th>\n",
       "      <th>STOP_DURATION_MINUTES</th>\n",
       "      <th>SUSPECT_ARRESTED_FLAG</th>\n",
       "      <th>FRISKED_FLAG</th>\n",
       "      <th>SEARCHED_FLAG</th>\n",
       "      <th>FIREARM_FLAG</th>\n",
       "      <th>DEMEANOR_OF_PERSON_STOPPED</th>\n",
       "      <th>SUSPECT_RACE_DESCRIPTION</th>\n",
       "      <th>SUSPECT_BODY_BUILD_TYPE</th>\n",
       "      <th>STOP_LOCATION_BORO_NAME</th>\n",
       "      <th>SENTIMENT_SCORE</th>\n",
       "    </tr>\n",
       "  </thead>\n",
       "  <tbody>\n",
       "    <tr>\n",
       "      <th>0</th>\n",
       "      <td>Based on Self Initiated</td>\n",
       "      <td>1</td>\n",
       "      <td>CPW</td>\n",
       "      <td>4</td>\n",
       "      <td>Y</td>\n",
       "      <td>Y</td>\n",
       "      <td>Y</td>\n",
       "      <td>Y</td>\n",
       "      <td>FLED ON FOOT</td>\n",
       "      <td>BLACK</td>\n",
       "      <td>U</td>\n",
       "      <td>BROOKLYN</td>\n",
       "      <td>0.500637</td>\n",
       "    </tr>\n",
       "    <tr>\n",
       "      <th>1</th>\n",
       "      <td>Based on Self Initiated</td>\n",
       "      <td>1</td>\n",
       "      <td>CPW</td>\n",
       "      <td>1</td>\n",
       "      <td>Y</td>\n",
       "      <td>Y</td>\n",
       "      <td>Y</td>\n",
       "      <td>Y</td>\n",
       "      <td>neutral</td>\n",
       "      <td>BLACK</td>\n",
       "      <td>MED</td>\n",
       "      <td>BRONX</td>\n",
       "      <td>0.500637</td>\n",
       "    </tr>\n",
       "    <tr>\n",
       "      <th>2</th>\n",
       "      <td>Based on Self Initiated</td>\n",
       "      <td>1</td>\n",
       "      <td>CPW</td>\n",
       "      <td>1</td>\n",
       "      <td>Y</td>\n",
       "      <td>N</td>\n",
       "      <td>Y</td>\n",
       "      <td>Y</td>\n",
       "      <td>NERVOUS CHANGING DIRECTION FROM OFFICERS RUNNING</td>\n",
       "      <td>BLACK</td>\n",
       "      <td>THN</td>\n",
       "      <td>BRONX</td>\n",
       "      <td>0.342462</td>\n",
       "    </tr>\n",
       "    <tr>\n",
       "      <th>3</th>\n",
       "      <td>Based on Radio Run</td>\n",
       "      <td>5</td>\n",
       "      <td>ASSAULT</td>\n",
       "      <td>10</td>\n",
       "      <td>N</td>\n",
       "      <td>N</td>\n",
       "      <td>N</td>\n",
       "      <td>(null)</td>\n",
       "      <td>CALM</td>\n",
       "      <td>BLACK HISPANIC</td>\n",
       "      <td>(null)</td>\n",
       "      <td>MANHATTAN</td>\n",
       "      <td>0.684866</td>\n",
       "    </tr>\n",
       "    <tr>\n",
       "      <th>4</th>\n",
       "      <td>Based on Radio Run</td>\n",
       "      <td>5</td>\n",
       "      <td>ASSAULT</td>\n",
       "      <td>10</td>\n",
       "      <td>N</td>\n",
       "      <td>N</td>\n",
       "      <td>N</td>\n",
       "      <td>(null)</td>\n",
       "      <td>CALM</td>\n",
       "      <td>WHITE</td>\n",
       "      <td>(null)</td>\n",
       "      <td>MANHATTAN</td>\n",
       "      <td>0.684866</td>\n",
       "    </tr>\n",
       "    <tr>\n",
       "      <th>...</th>\n",
       "      <td>...</td>\n",
       "      <td>...</td>\n",
       "      <td>...</td>\n",
       "      <td>...</td>\n",
       "      <td>...</td>\n",
       "      <td>...</td>\n",
       "      <td>...</td>\n",
       "      <td>...</td>\n",
       "      <td>...</td>\n",
       "      <td>...</td>\n",
       "      <td>...</td>\n",
       "      <td>...</td>\n",
       "      <td>...</td>\n",
       "    </tr>\n",
       "    <tr>\n",
       "      <th>15097</th>\n",
       "      <td>Based on Self Initiated</td>\n",
       "      <td>1</td>\n",
       "      <td>CPW</td>\n",
       "      <td>7</td>\n",
       "      <td>N</td>\n",
       "      <td>Y</td>\n",
       "      <td>N</td>\n",
       "      <td>(null)</td>\n",
       "      <td>neutral</td>\n",
       "      <td>BLACK</td>\n",
       "      <td>HEA</td>\n",
       "      <td>BRONX</td>\n",
       "      <td>0.500637</td>\n",
       "    </tr>\n",
       "    <tr>\n",
       "      <th>15098</th>\n",
       "      <td>Based on Radio Run</td>\n",
       "      <td>0</td>\n",
       "      <td>CPW</td>\n",
       "      <td>1</td>\n",
       "      <td>N</td>\n",
       "      <td>Y</td>\n",
       "      <td>N</td>\n",
       "      <td>(null)</td>\n",
       "      <td>CALM</td>\n",
       "      <td>WHITE HISPANIC</td>\n",
       "      <td>U</td>\n",
       "      <td>BRONX</td>\n",
       "      <td>0.684866</td>\n",
       "    </tr>\n",
       "    <tr>\n",
       "      <th>15099</th>\n",
       "      <td>Based on Self Initiated</td>\n",
       "      <td>1</td>\n",
       "      <td>CRIMINAL TRESPASS</td>\n",
       "      <td>2</td>\n",
       "      <td>N</td>\n",
       "      <td>N</td>\n",
       "      <td>N</td>\n",
       "      <td>(null)</td>\n",
       "      <td>COMPLIANT</td>\n",
       "      <td>WHITE HISPANIC</td>\n",
       "      <td>THN</td>\n",
       "      <td>QUEENS</td>\n",
       "      <td>0.500637</td>\n",
       "    </tr>\n",
       "    <tr>\n",
       "      <th>15100</th>\n",
       "      <td>Based on Radio Run</td>\n",
       "      <td>1</td>\n",
       "      <td>CPW</td>\n",
       "      <td>1</td>\n",
       "      <td>N</td>\n",
       "      <td>Y</td>\n",
       "      <td>N</td>\n",
       "      <td>(null)</td>\n",
       "      <td>ANNOYED</td>\n",
       "      <td>BLACK</td>\n",
       "      <td>THN</td>\n",
       "      <td>BRONX</td>\n",
       "      <td>0.279585</td>\n",
       "    </tr>\n",
       "    <tr>\n",
       "      <th>15101</th>\n",
       "      <td>Based on Radio Run</td>\n",
       "      <td>1</td>\n",
       "      <td>CPW</td>\n",
       "      <td>1</td>\n",
       "      <td>N</td>\n",
       "      <td>Y</td>\n",
       "      <td>N</td>\n",
       "      <td>(null)</td>\n",
       "      <td>ANNOYED NON COMPLIANT</td>\n",
       "      <td>BLACK</td>\n",
       "      <td>THN</td>\n",
       "      <td>BRONX</td>\n",
       "      <td>0.279585</td>\n",
       "    </tr>\n",
       "  </tbody>\n",
       "</table>\n",
       "<p>15102 rows × 13 columns</p>\n",
       "</div>"
      ],
      "text/plain": [
       "            STOP_WAS_INITIATED  OBSERVED_DURATION_MINUTES  \\\n",
       "0      Based on Self Initiated                          1   \n",
       "1      Based on Self Initiated                          1   \n",
       "2      Based on Self Initiated                          1   \n",
       "3           Based on Radio Run                          5   \n",
       "4           Based on Radio Run                          5   \n",
       "...                        ...                        ...   \n",
       "15097  Based on Self Initiated                          1   \n",
       "15098       Based on Radio Run                          0   \n",
       "15099  Based on Self Initiated                          1   \n",
       "15100       Based on Radio Run                          1   \n",
       "15101       Based on Radio Run                          1   \n",
       "\n",
       "      SUSPECTED_CRIME_DESCRIPTION  STOP_DURATION_MINUTES  \\\n",
       "0                             CPW                      4   \n",
       "1                             CPW                      1   \n",
       "2                             CPW                      1   \n",
       "3                         ASSAULT                     10   \n",
       "4                         ASSAULT                     10   \n",
       "...                           ...                    ...   \n",
       "15097                         CPW                      7   \n",
       "15098                         CPW                      1   \n",
       "15099           CRIMINAL TRESPASS                      2   \n",
       "15100                         CPW                      1   \n",
       "15101                         CPW                      1   \n",
       "\n",
       "      SUSPECT_ARRESTED_FLAG FRISKED_FLAG SEARCHED_FLAG FIREARM_FLAG  \\\n",
       "0                         Y            Y             Y            Y   \n",
       "1                         Y            Y             Y            Y   \n",
       "2                         Y            N             Y            Y   \n",
       "3                         N            N             N       (null)   \n",
       "4                         N            N             N       (null)   \n",
       "...                     ...          ...           ...          ...   \n",
       "15097                     N            Y             N       (null)   \n",
       "15098                     N            Y             N       (null)   \n",
       "15099                     N            N             N       (null)   \n",
       "15100                     N            Y             N       (null)   \n",
       "15101                     N            Y             N       (null)   \n",
       "\n",
       "                             DEMEANOR_OF_PERSON_STOPPED  \\\n",
       "0                                          FLED ON FOOT   \n",
       "1                                               neutral   \n",
       "2      NERVOUS CHANGING DIRECTION FROM OFFICERS RUNNING   \n",
       "3                                                  CALM   \n",
       "4                                                  CALM   \n",
       "...                                                 ...   \n",
       "15097                                           neutral   \n",
       "15098                                              CALM   \n",
       "15099                                         COMPLIANT   \n",
       "15100                                           ANNOYED   \n",
       "15101                             ANNOYED NON COMPLIANT   \n",
       "\n",
       "      SUSPECT_RACE_DESCRIPTION SUSPECT_BODY_BUILD_TYPE  \\\n",
       "0                        BLACK                     U     \n",
       "1                        BLACK                     MED   \n",
       "2                        BLACK                     THN   \n",
       "3               BLACK HISPANIC                  (null)   \n",
       "4                        WHITE                  (null)   \n",
       "...                        ...                     ...   \n",
       "15097                    BLACK                     HEA   \n",
       "15098           WHITE HISPANIC                     U     \n",
       "15099           WHITE HISPANIC                     THN   \n",
       "15100                    BLACK                     THN   \n",
       "15101                    BLACK                     THN   \n",
       "\n",
       "      STOP_LOCATION_BORO_NAME  SENTIMENT_SCORE  \n",
       "0                    BROOKLYN         0.500637  \n",
       "1                       BRONX         0.500637  \n",
       "2                       BRONX         0.342462  \n",
       "3                   MANHATTAN         0.684866  \n",
       "4                   MANHATTAN         0.684866  \n",
       "...                       ...              ...  \n",
       "15097                   BRONX         0.500637  \n",
       "15098                   BRONX         0.684866  \n",
       "15099                  QUEENS         0.500637  \n",
       "15100                   BRONX         0.279585  \n",
       "15101                   BRONX         0.279585  \n",
       "\n",
       "[15102 rows x 13 columns]"
      ]
     },
     "execution_count": 7,
     "metadata": {},
     "output_type": "execute_result"
    }
   ],
   "source": [
    "Test1"
   ]
  },
  {
   "cell_type": "code",
   "execution_count": 8,
   "metadata": {},
   "outputs": [],
   "source": [
    "Feature_test=[\"FIREARM_FLAG\",\"FRISKED_FLAG\",\"SEARCHED_FLAG\"]\n",
    "\n",
    "Test1['FIREARM_FLAG'] = Test1['FIREARM_FLAG'].replace('(null)', 'No')\n",
    "Test1.replace('(null)', np.nan, inplace=True)\n",
    "\n",
    "lb = LabelBinarizer()\n",
    "Test1[\"SUSPECT_ARRESTED_FLAG\"] = lb.fit_transform(Test1[\"SUSPECT_ARRESTED_FLAG\"])\n",
    "Test1[\"FIREARM_FLAG\"] = lb.fit_transform(Test1[\"FIREARM_FLAG\"])\n",
    "Test1[\"FRISKED_FLAG\"] = lb.fit_transform(Test1[\"FRISKED_FLAG\"])\n",
    "Test1[\"SEARCHED_FLAG\"] = lb.fit_transform(Test1[\"SEARCHED_FLAG\"])\n",
    "\n",
    "\n",
    "Test1[\"SUSPECT_ARRESTED_FLAG\"].fillna(Test1[\"SUSPECT_ARRESTED_FLAG\"].median,inplace=True)\n",
    "Test1[\"FIREARM_FLAG\"].fillna(Test1[\"FIREARM_FLAG\"].median,inplace=True)\n",
    "Test1[\"FRISKED_FLAG\"].fillna(Test1[\"FRISKED_FLAG\"].median,inplace=True)\n",
    "Test1[\"SEARCHED_FLAG\"].fillna(Test1[\"SEARCHED_FLAG\"].median,inplace=True)"
   ]
  },
  {
   "cell_type": "code",
   "execution_count": 9,
   "metadata": {},
   "outputs": [],
   "source": [
    "#One Hot-Encoding\n",
    "OneHot_Encode_feature = [\"STOP_WAS_INITIATED\",\"SUSPECTED_CRIME_DESCRIPTION\"]\n",
    "Label_En = OneHotEncoder(handle_unknown=\"ignore\")\n",
    "Feature_Encoded = Label_En.fit_transform(Test1[OneHot_Encode_feature])\n",
    "Label_df = pd.DataFrame(Feature_Encoded.toarray(), columns=Label_En.get_feature_names_out(OneHot_Encode_feature))\n"
   ]
  },
  {
   "cell_type": "code",
   "execution_count": 10,
   "metadata": {},
   "outputs": [],
   "source": [
    "#label encoding\n",
    "LE=LabelEncoder()\n",
    "Test1['SUSPECT_BODY_BUILD_TYPE']=LE.fit_transform(Test1[\"SUSPECT_BODY_BUILD_TYPE\"])\n",
    "Test1['SUSPECT_BODY_BUILD_TYPE'].fillna(Test1['SUSPECT_BODY_BUILD_TYPE'].mean, inplace=True)"
   ]
  },
  {
   "cell_type": "code",
   "execution_count": 11,
   "metadata": {},
   "outputs": [],
   "source": [
    "cat_feature=list(Label_df.columns)+Feature_test\n",
    "Test1 = pd.concat([Test1, Label_df], axis=1)\n",
    "# drop the original categorical feature column\n",
    "Test1 = Test1.drop(columns=OneHot_Encode_feature)\n",
    "\n",
    "\n",
    "\n",
    "# train test split\n",
    "train_data,test_data=train_test_split(Test1,test_size=0.2,random_state=42)\n",
    "\n",
    "\n",
    "#classi\n",
    "X_train = train_data[cat_feature] # training features_for Random forest\n",
    "y_train = train_data['SUSPECT_ARRESTED_FLAG'] # training target variable for random forest\n",
    "\n",
    "X_test = test_data[cat_feature] # testing features\n",
    "y_test = test_data['SUSPECT_ARRESTED_FLAG'] # testing target variable\n",
    "\n",
    "\n",
    "smote = SMOTE()\n",
    "X_train_oversampled, y_train_oversampled = smote.fit_resample(X_train, y_train)"
   ]
  },
  {
   "cell_type": "code",
   "execution_count": 12,
   "metadata": {},
   "outputs": [],
   "source": [
    "nd_test = Test1['SENTIMENT_SCORE']"
   ]
  },
  {
   "cell_type": "code",
   "execution_count": 13,
   "metadata": {},
   "outputs": [
    {
     "name": "stdout",
     "output_type": "stream",
     "text": [
      "Shapiro-Wilk p-value: 0.0\n",
      "D'Agostino's K^2 p-value: 0.0\n",
      "Is the data normally distributed (Shapiro-Wilk): False\n",
      "Is the data normally distributed (D'Agostino's K^2): False\n"
     ]
    },
    {
     "name": "stderr",
     "output_type": "stream",
     "text": [
      "/Users/iris/Library/Python/3.9/lib/python/site-packages/scipy/stats/_morestats.py:1816: UserWarning: p-value may not be accurate for N > 5000.\n",
      "  warnings.warn(\"p-value may not be accurate for N > 5000.\")\n"
     ]
    }
   ],
   "source": [
    "# Shapiro-Wilk test\n",
    "_, shapiro_pvalue = shapiro(nd_test)\n",
    "is_normal_sw = shapiro_pvalue > 0.05\n",
    "\n",
    "# D'Agostino's K^2 test\n",
    "_, dagostino_pvalue = normaltest(nd_test)\n",
    "is_normal_dg = dagostino_pvalue > 0.05\n",
    "\n",
    "print(\"Shapiro-Wilk p-value:\", shapiro_pvalue)\n",
    "print(\"D'Agostino's K^2 p-value:\", dagostino_pvalue)\n",
    "print(\"Is the data normally distributed (Shapiro-Wilk):\", is_normal_sw)\n",
    "print(\"Is the data normally distributed (D'Agostino's K^2):\", is_normal_dg)\n"
   ]
  },
  {
   "cell_type": "code",
   "execution_count": 14,
   "metadata": {},
   "outputs": [
    {
     "data": {
      "image/png": "[encoded data removed]",
      "text/plain": [
       "<Figure size 640x480 with 1 Axes>"
      ]
     },
     "metadata": {},
     "output_type": "display_data"
    }
   ],
   "source": [
    "# Create a histogram\n",
    "plt.hist(nd_test, bins='auto', density=True)\n",
    "\n",
    "# Plot a normal distribution curve\n",
    "mu, sigma = np.mean(nd_test), np.std(data)\n",
    "x = np.linspace(mu - 3*sigma, mu + 3*sigma, 100)\n",
    "plt.plot(x, stats.norm.pdf(x, mu, sigma), 'r')\n",
    "\n",
    "# Display the plot\n",
    "plt.xlabel('Data')\n",
    "plt.ylabel('Frequency')\n",
    "plt.title('Histogram of Data')\n",
    "plt.show()\n"
   ]
  },
  {
   "cell_type": "code",
   "execution_count": 15,
   "metadata": {},
   "outputs": [
    {
     "data": {
      "text/plain": [
       "0        0.500637\n",
       "1        0.500637\n",
       "2        0.342462\n",
       "3        0.684866\n",
       "4        0.684866\n",
       "           ...   \n",
       "15097    0.500637\n",
       "15098    0.684866\n",
       "15099    0.500637\n",
       "15100    0.279585\n",
       "15101    0.279585\n",
       "Name: SENTIMENT_SCORE, Length: 15102, dtype: float64"
      ]
     },
     "execution_count": 15,
     "metadata": {},
     "output_type": "execute_result"
    }
   ],
   "source": [
    "Test1['SENTIMENT_SCORE']"
   ]
  },
  {
   "cell_type": "code",
   "execution_count": 16,
   "metadata": {},
   "outputs": [
    {
     "name": "stdout",
     "output_type": "stream",
     "text": [
      "Train_Accuracy: 0.8391261171797418\n",
      "Accuracy: 0.8370168032447645\n"
     ]
    }
   ],
   "source": [
    "# naive bayesian model\n",
    "\n",
    "Model_N=MultinomialNB()\n",
    "Model_N.fit(X_train,y_train)\n",
    "N_prediction=Model_N.predict(X_test)\n",
    "train_N_prediction=Model_N.predict(X_train)\n",
    "N_train_accuracy=accuracy_score(y_train,train_N_prediction)\n",
    "N_accuracy=accuracy_score(y_test,N_prediction)\n",
    "\n",
    "print('Train_Accuracy:', N_accuracy)\n",
    "print('Accuracy:', N_train_accuracy)\n"
   ]
  },
  {
   "cell_type": "code",
   "execution_count": 17,
   "metadata": {},
   "outputs": [
    {
     "name": "stdout",
     "output_type": "stream",
     "text": [
      "Train_Accuracy: 0.7975349931871671\n",
      "Accuracy: 0.7954319761668321\n"
     ]
    }
   ],
   "source": [
    "# naive bayesian with oversample\n",
    "\n",
    "Model_N_Over = MultinomialNB()\n",
    "Model_N_Over.fit(X_train_oversampled, y_train_oversampled)\n",
    "N_prediction_Over = Model_N_Over.predict(X_test)\n",
    "train_N_prediction_Over = Model_N_Over.predict(X_train_oversampled)\n",
    "N_train_accuracy_Over = accuracy_score(y_train_oversampled, train_N_prediction_Over)\n",
    "N_accuracy_Over = accuracy_score(y_test, N_prediction_Over)\n",
    "\n",
    "print('Train_Accuracy:', N_train_accuracy_Over)\n",
    "print('Accuracy:', N_accuracy_Over)"
   ]
  },
  {
   "cell_type": "code",
   "execution_count": 18,
   "metadata": {},
   "outputs": [
    {
     "name": "stdout",
     "output_type": "stream",
     "text": [
      "Train_Accuracy: 0.8673950831884778\n",
      "Accuracy: 0.8679245283018868\n"
     ]
    }
   ],
   "source": [
    "model_R = RandomForestClassifier(random_state=42)\n",
    "#model_R.fit(train_data[Feature_test], train_data[\"SUSPECT_ARRESTED_FLAG\"])\n",
    "\n",
    "#with only caterogical data but transform to numeric/ with both\n",
    "\n",
    "model_R.fit(X_train,y_train)\n",
    "Prediction=model_R.predict(X_test)\n",
    "\n",
    "train_Prediction =model_R.predict(X_train)\n",
    "\n",
    "\n",
    "train_accuracy=accuracy_score(y_train,train_Prediction)\n",
    "\n",
    "accuracy = accuracy_score(y_test, Prediction)\n",
    "\n",
    "\n",
    "print('Train_Accuracy:', train_accuracy)\n",
    "print('Accuracy:', accuracy)\n"
   ]
  },
  {
   "cell_type": "code",
   "execution_count": 19,
   "metadata": {},
   "outputs": [
    {
     "name": "stdout",
     "output_type": "stream",
     "text": [
      "Train_Accuracy: 0.8435525826830175\n",
      "Accuracy: 0.8603111552466071\n"
     ]
    }
   ],
   "source": [
    "# random classifier with oversampled data\n",
    "\n",
    "model_R_Over = RandomForestClassifier(random_state=42)\n",
    "#model_R.fit(train_data[Feature_test], train_data[\"SUSPECT_ARRESTED_FLAG\"])\n",
    "\n",
    "#with only caterogical data but transform to numeric/ with both\n",
    "model_R_Over.fit(X_train_oversampled,y_train_oversampled)\n",
    "Prediction_Over=model_R_Over.predict(X_test)\n",
    "\n",
    "train_Prediction_Over =model_R_Over.predict(X_train_oversampled)\n",
    "\n",
    "\n",
    "train_accuracy_Over=accuracy_score(y_train_oversampled,train_Prediction_Over)\n",
    "\n",
    "accuracy_Over = accuracy_score(y_test, Prediction_Over)\n",
    "\n",
    "\n",
    "print('Train_Accuracy:', train_accuracy_Over)\n",
    "print('Accuracy:', accuracy_Over)\n"
   ]
  },
  {
   "cell_type": "code",
   "execution_count": 20,
   "metadata": {},
   "outputs": [
    {
     "name": "stdout",
     "output_type": "stream",
     "text": [
      "Testing RMSE: 0.34074823315784813\n",
      "Training RMSE: 0.34556613691542354\n"
     ]
    }
   ],
   "source": [
    "# linear regression \n",
    "model = LinearRegression()\n",
    "model.fit(X_train, y_train)\n",
    "\n",
    "# make predictions on the testing and training data, and calculate RMSE\n",
    "y_test_pred = model.predict(X_test)\n",
    "y_train_pred = model.predict(X_train)\n",
    "test_rmse = mean_squared_error(y_test, y_test_pred, squared=False)\n",
    "train_rmse = mean_squared_error(y_train, y_train_pred, squared=False)\n",
    "\n",
    "print('Testing RMSE:', test_rmse)\n",
    "print('Training RMSE:', train_rmse)"
   ]
  },
  {
   "cell_type": "code",
   "execution_count": 21,
   "metadata": {},
   "outputs": [
    {
     "name": "stdout",
     "output_type": "stream",
     "text": [
      "Accuracy: 0.8659384309831182\n",
      "Train Accuract: 0.8611042132273818\n"
     ]
    }
   ],
   "source": [
    "logreg = LogisticRegression(max_iter=1000,random_state=42)\n",
    "logreg.fit(X_train, y_train)\n",
    "log_predict=logreg.predict(X_test)\n",
    "log_score=accuracy_score(y_test,log_predict)\n",
    "\n",
    "train_log_predict=logreg.predict(X_train)\n",
    "train_log_score=accuracy_score(y_train,train_log_predict)\n",
    "\n",
    "print(\"Accuracy:\", log_score)\n",
    "print(\"Train Accuract:\", train_log_score)"
   ]
  },
  {
   "cell_type": "code",
   "execution_count": 22,
   "metadata": {},
   "outputs": [
    {
     "name": "stdout",
     "output_type": "stream",
     "text": [
      "Accuracy: 0.8642833498841443\n",
      "Train Accuracy: 0.8378545769850118\n"
     ]
    }
   ],
   "source": [
    "# logistic regression with over sampling\n",
    "\n",
    "logreg_Over = LogisticRegression(max_iter=1000, random_state=42)\n",
    "logreg_Over.fit(X_train_oversampled, y_train_oversampled)\n",
    "log_predict_Over = logreg_Over.predict(X_test)\n",
    "log_score_Over = accuracy_score(y_test, log_predict_Over)\n",
    "\n",
    "train_log_predict_Over = logreg_Over.predict(X_train_oversampled)\n",
    "train_log_score_Over = accuracy_score(y_train_oversampled, train_log_predict_Over)\n",
    "\n",
    "print(\"Accuracy:\", log_score_Over)\n",
    "print(\"Train Accuracy:\", train_log_score_Over)"
   ]
  },
  {
   "cell_type": "code",
   "execution_count": 23,
   "metadata": {},
   "outputs": [
    {
     "name": "stdout",
     "output_type": "stream",
     "text": [
      "Decision Tree score:  0.8652763985435287\n",
      "Train_Decision Tree score:  0.8673950831884778\n"
     ]
    }
   ],
   "source": [
    "# decision tree\n",
    "\n",
    "Dec_model=DecisionTreeClassifier(random_state=42)\n",
    "Dec_model.fit(X_train,y_train)\n",
    "Dec_predict=Dec_model.predict(X_test)\n",
    "Train_Dec_predict=Dec_model.predict(X_train)\n",
    "Dec_accuracy=accuracy_score(y_test,Dec_predict)\n",
    "Train_Dec_accuracy=accuracy_score(y_train,Train_Dec_predict)\n",
    "print(\"Decision Tree score: \",Dec_accuracy)\n",
    "print(\"Train_Decision Tree score: \",Train_Dec_accuracy)"
   ]
  },
  {
   "cell_type": "code",
   "execution_count": 24,
   "metadata": {},
   "outputs": [
    {
     "ename": "ValueError",
     "evalue": "Found input variables with inconsistent numbers of samples: [3021, 16146]",
     "output_type": "error",
     "traceback": [
      "\u001b[0;31m---------------------------------------------------------------------------\u001b[0m",
      "\u001b[0;31mValueError\u001b[0m                                Traceback (most recent call last)",
      "Cell \u001b[0;32mIn[24], line 7\u001b[0m\n\u001b[1;32m      5\u001b[0m Dec_predict_Over\u001b[39m=\u001b[39mDec_model_Over\u001b[39m.\u001b[39mpredict(X_test)\n\u001b[1;32m      6\u001b[0m Train_Dec_predict_Over\u001b[39m=\u001b[39mDec_model_Over\u001b[39m.\u001b[39mpredict(X_train_oversampled)\n\u001b[0;32m----> 7\u001b[0m Dec_accuracy_Over\u001b[39m=\u001b[39maccuracy_score(y_test,Train_Dec_predict_Over)\n\u001b[1;32m      8\u001b[0m Train_Dec_accuracy_Over\u001b[39m=\u001b[39maccuracy_score(y_train_oversampled,Train_Dec_predict_Over)\n\u001b[1;32m      9\u001b[0m \u001b[39mprint\u001b[39m(\u001b[39m\"\u001b[39m\u001b[39mDecision Tree score: \u001b[39m\u001b[39m\"\u001b[39m,Dec_accuracy_Over)\n",
      "File \u001b[0;32m~/Library/Python/3.9/lib/python/site-packages/sklearn/utils/_param_validation.py:192\u001b[0m, in \u001b[0;36mvalidate_params.<locals>.decorator.<locals>.wrapper\u001b[0;34m(*args, **kwargs)\u001b[0m\n\u001b[1;32m    187\u001b[0m validate_parameter_constraints(\n\u001b[1;32m    188\u001b[0m     parameter_constraints, params, caller_name\u001b[39m=\u001b[39mfunc\u001b[39m.\u001b[39m\u001b[39m__qualname__\u001b[39m\n\u001b[1;32m    189\u001b[0m )\n\u001b[1;32m    191\u001b[0m \u001b[39mtry\u001b[39;00m:\n\u001b[0;32m--> 192\u001b[0m     \u001b[39mreturn\u001b[39;00m func(\u001b[39m*\u001b[39;49margs, \u001b[39m*\u001b[39;49m\u001b[39m*\u001b[39;49mkwargs)\n\u001b[1;32m    193\u001b[0m \u001b[39mexcept\u001b[39;00m InvalidParameterError \u001b[39mas\u001b[39;00m e:\n\u001b[1;32m    194\u001b[0m     \u001b[39m# When the function is just a wrapper around an estimator, we allow\u001b[39;00m\n\u001b[1;32m    195\u001b[0m     \u001b[39m# the function to delegate validation to the estimator, but we replace\u001b[39;00m\n\u001b[1;32m    196\u001b[0m     \u001b[39m# the name of the estimator by the name of the function in the error\u001b[39;00m\n\u001b[1;32m    197\u001b[0m     \u001b[39m# message to avoid confusion.\u001b[39;00m\n\u001b[1;32m    198\u001b[0m     msg \u001b[39m=\u001b[39m re\u001b[39m.\u001b[39msub(\n\u001b[1;32m    199\u001b[0m         \u001b[39mr\u001b[39m\u001b[39m\"\u001b[39m\u001b[39mparameter of \u001b[39m\u001b[39m\\\u001b[39m\u001b[39mw+ must be\u001b[39m\u001b[39m\"\u001b[39m,\n\u001b[1;32m    200\u001b[0m         \u001b[39mf\u001b[39m\u001b[39m\"\u001b[39m\u001b[39mparameter of \u001b[39m\u001b[39m{\u001b[39;00mfunc\u001b[39m.\u001b[39m\u001b[39m__qualname__\u001b[39m\u001b[39m}\u001b[39;00m\u001b[39m must be\u001b[39m\u001b[39m\"\u001b[39m,\n\u001b[1;32m    201\u001b[0m         \u001b[39mstr\u001b[39m(e),\n\u001b[1;32m    202\u001b[0m     )\n",
      "File \u001b[0;32m~/Library/Python/3.9/lib/python/site-packages/sklearn/metrics/_classification.py:221\u001b[0m, in \u001b[0;36maccuracy_score\u001b[0;34m(y_true, y_pred, normalize, sample_weight)\u001b[0m\n\u001b[1;32m    155\u001b[0m \u001b[39m\u001b[39m\u001b[39m\"\"\"Accuracy classification score.\u001b[39;00m\n\u001b[1;32m    156\u001b[0m \n\u001b[1;32m    157\u001b[0m \u001b[39mIn multilabel classification, this function computes subset accuracy:\u001b[39;00m\n\u001b[0;32m   (...)\u001b[0m\n\u001b[1;32m    217\u001b[0m \u001b[39m0.5\u001b[39;00m\n\u001b[1;32m    218\u001b[0m \u001b[39m\"\"\"\u001b[39;00m\n\u001b[1;32m    220\u001b[0m \u001b[39m# Compute accuracy for each possible representation\u001b[39;00m\n\u001b[0;32m--> 221\u001b[0m y_type, y_true, y_pred \u001b[39m=\u001b[39m _check_targets(y_true, y_pred)\n\u001b[1;32m    222\u001b[0m check_consistent_length(y_true, y_pred, sample_weight)\n\u001b[1;32m    223\u001b[0m \u001b[39mif\u001b[39;00m y_type\u001b[39m.\u001b[39mstartswith(\u001b[39m\"\u001b[39m\u001b[39mmultilabel\u001b[39m\u001b[39m\"\u001b[39m):\n",
      "File \u001b[0;32m~/Library/Python/3.9/lib/python/site-packages/sklearn/metrics/_classification.py:86\u001b[0m, in \u001b[0;36m_check_targets\u001b[0;34m(y_true, y_pred)\u001b[0m\n\u001b[1;32m     59\u001b[0m \u001b[39mdef\u001b[39;00m \u001b[39m_check_targets\u001b[39m(y_true, y_pred):\n\u001b[1;32m     60\u001b[0m \u001b[39m    \u001b[39m\u001b[39m\"\"\"Check that y_true and y_pred belong to the same classification task.\u001b[39;00m\n\u001b[1;32m     61\u001b[0m \n\u001b[1;32m     62\u001b[0m \u001b[39m    This converts multiclass or binary types to a common shape, and raises a\u001b[39;00m\n\u001b[0;32m   (...)\u001b[0m\n\u001b[1;32m     84\u001b[0m \u001b[39m    y_pred : array or indicator matrix\u001b[39;00m\n\u001b[1;32m     85\u001b[0m \u001b[39m    \"\"\"\u001b[39;00m\n\u001b[0;32m---> 86\u001b[0m     check_consistent_length(y_true, y_pred)\n\u001b[1;32m     87\u001b[0m     type_true \u001b[39m=\u001b[39m type_of_target(y_true, input_name\u001b[39m=\u001b[39m\u001b[39m\"\u001b[39m\u001b[39my_true\u001b[39m\u001b[39m\"\u001b[39m)\n\u001b[1;32m     88\u001b[0m     type_pred \u001b[39m=\u001b[39m type_of_target(y_pred, input_name\u001b[39m=\u001b[39m\u001b[39m\"\u001b[39m\u001b[39my_pred\u001b[39m\u001b[39m\"\u001b[39m)\n",
      "File \u001b[0;32m~/Library/Python/3.9/lib/python/site-packages/sklearn/utils/validation.py:397\u001b[0m, in \u001b[0;36mcheck_consistent_length\u001b[0;34m(*arrays)\u001b[0m\n\u001b[1;32m    395\u001b[0m uniques \u001b[39m=\u001b[39m np\u001b[39m.\u001b[39munique(lengths)\n\u001b[1;32m    396\u001b[0m \u001b[39mif\u001b[39;00m \u001b[39mlen\u001b[39m(uniques) \u001b[39m>\u001b[39m \u001b[39m1\u001b[39m:\n\u001b[0;32m--> 397\u001b[0m     \u001b[39mraise\u001b[39;00m \u001b[39mValueError\u001b[39;00m(\n\u001b[1;32m    398\u001b[0m         \u001b[39m\"\u001b[39m\u001b[39mFound input variables with inconsistent numbers of samples: \u001b[39m\u001b[39m%r\u001b[39;00m\u001b[39m\"\u001b[39m\n\u001b[1;32m    399\u001b[0m         \u001b[39m%\u001b[39m [\u001b[39mint\u001b[39m(l) \u001b[39mfor\u001b[39;00m l \u001b[39min\u001b[39;00m lengths]\n\u001b[1;32m    400\u001b[0m     )\n",
      "\u001b[0;31mValueError\u001b[0m: Found input variables with inconsistent numbers of samples: [3021, 16146]"
     ]
    }
   ],
   "source": [
    "# #decision tree with over sampling\n",
    "# # RAN ON ERROR\n",
    "# Dec_model_Over=DecisionTreeClassifier(random_state=42)\n",
    "# Dec_model_Over.fit(X_train_oversampled,y_train_oversampled)\n",
    "# Dec_predict_Over=Dec_model_Over.predict(X_test)\n",
    "# Train_Dec_predict_Over=Dec_model_Over.predict(X_train_oversampled)\n",
    "# Dec_accuracy_Over=accuracy_score(y_test,Train_Dec_predict_Over)\n",
    "# Train_Dec_accuracy_Over=accuracy_score(y_train_oversampled,Train_Dec_predict_Over)\n",
    "# print(\"Decision Tree score: \",Dec_accuracy_Over)\n",
    "# print(\"Train_Decision Tree score: \",Train_Dec_accuracy_Over)\n"
   ]
  },
  {
   "cell_type": "code",
   "execution_count": 25,
   "metadata": {},
   "outputs": [
    {
     "name": "stdout",
     "output_type": "stream",
     "text": [
      "Training error 0.6765971532605097\n",
      "TestError: 0.6682393841569406\n"
     ]
    }
   ],
   "source": [
    "dummy_class = DummyClassifier(strategy=\"most_frequent\")\n",
    "dummy_class.fit(X_train,y_train)\n",
    "y_predict=dummy_class.predict(X_test)\n",
    "y_train_predict=dummy_class.predict(X_train)\n",
    "Dummy_accuracy = accuracy_score(y_test, y_predict)\n",
    "Dummy_train_accuracy = accuracy_score(y_train, y_train_predict)\n",
    "print(\"Training error\",Dummy_accuracy)\n",
    "print(\"TestError:\", Dummy_train_accuracy)\n"
   ]
  },
  {
   "cell_type": "code",
   "execution_count": 26,
   "metadata": {},
   "outputs": [
    {
     "name": "stdout",
     "output_type": "stream",
     "text": [
      "Accuracy: 0.7871565706719629\n"
     ]
    }
   ],
   "source": [
    "# create a decision tree classifier with max depth of 1 and random state of 42\n",
    "Dec_model_OneR=DecisionTreeClassifier(random_state=42,max_depth=1)\n",
    "\n",
    "# Fit the model on the training data\n",
    "Dec_model_OneR.fit(train_data[\"SEARCHED_FLAG\"].values.reshape(-1, 1), train_data[\"SUSPECT_ARRESTED_FLAG\"])\n",
    "\n",
    "# Make predictions on the test data\n",
    "predictions = Dec_model_OneR.predict(test_data[\"SEARCHED_FLAG\"].values.reshape(-1, 1))\n",
    "\n",
    "# Calculate the accuracy of the model and printing it out \n",
    "accuracy_OneR = accuracy_score(test_data[\"SUSPECT_ARRESTED_FLAG\"], predictions)\n",
    "print(\"Accuracy:\", accuracy_OneR)"
   ]
  },
  {
   "cell_type": "code",
   "execution_count": 27,
   "metadata": {},
   "outputs": [
    {
     "name": "stdout",
     "output_type": "stream",
     "text": [
      "Voting Classifier 0.8682555445216815\n"
     ]
    }
   ],
   "source": [
    "estimators=[(\"logreg\", logreg), (\"rf\", model_R), (\"Dc\", Dec_model),(\"Naive\",Model_N)]\n",
    "#create our voting classifier, inputting our models\n",
    "ensemble = VotingClassifier(estimators)\n",
    "ensemble.fit(X_train, y_train)\n",
    "#test our model on the test data\n",
    "print(\"Voting Classifier\",ensemble.score(X_test, y_test))"
   ]
  },
  {
   "cell_type": "code",
   "execution_count": 28,
   "metadata": {},
   "outputs": [
    {
     "name": "stdout",
     "output_type": "stream",
     "text": [
      "Gradient  0.8702416418404502\n",
      "Train Gradient  0.8659879149077063\n"
     ]
    }
   ],
   "source": [
    "G_Model=GradientBoostingClassifier(random_state=42) #look for the base alg !! Gradient Boosted Decision Trees?\n",
    "G_Model.fit(X_train,y_train)\n",
    "G_predict=G_Model.predict(X_test)\n",
    "G_predict_train=G_Model.predict(X_train)\n",
    "G_accracy=accuracy_score(y_test,G_predict)\n",
    "G_accracy_train=accuracy_score(y_train,G_predict_train)\n",
    "print(\"Gradient \", G_accracy)\n",
    "print(\"Train Gradient \", G_accracy_train)"
   ]
  },
  {
   "cell_type": "code",
   "execution_count": null,
   "metadata": {},
   "outputs": [],
   "source": [
    "# count vectorizer\n",
    "# it is a feature extraction used in NLP to convert text into matrix of token counts\n",
    "# the resulting matrix should contain info about frequency of certain words in the text\n",
    "\n",
    "# create a count vectorizer object\n",
    "vectorizer = CountVectorizer()\n",
    "\n",
    "# \n",
    "# fit the count vectorizer using the training data \n",
    "X_train_encoded = vectorizer.fit_transform(train_data[\"SEARCHED_FLAG\"]) # might change this to \"DEMEANOR_OF_PERSON_STOPPED\"\n",
    "# transform the testing data using fitted vectorizer\n",
    "X_test_encoded = vectorizer.transform(test_data[\"SEARCHED_FLAG\"])\n",
    "\n",
    "# once count vectorizer is used to transform text data into a numerical representation,\n",
    "# Decision Tree Classifier is applied to look for pattterns and make predictions\n",
    "\n",
    "Dec_model_CountVec = DecisionTreeClassifier(random_state=42, max_depth=1)\n",
    "\n",
    "# fit decision tree model on the encoded training data\n",
    "Dec_model_CountVec.fit(X_train_encoded, train_data[\"SUSPECT_ARRESTED_FLAG\"])\n",
    "\n",
    "# make predictions on the encoded test set\n",
    "predictions = Dec_model_CountVec.predict(X_test_encoded)\n",
    "\n",
    "# calculate the accuracy of the model and print it out\n",
    "accuracy_CountVec = accuracy_score(test_data[\"SUSPECT_ARRESTED_FLAG\"], predictions)\n",
    "print(\"Accuracy:\", accuracy_CountVec)\n",
    "\n",
    "\n"
   ]
  },
  {
   "cell_type": "code",
   "execution_count": 29,
   "metadata": {},
   "outputs": [
    {
     "name": "stdout",
     "output_type": "stream",
     "text": [
      "RandomForestClassifier(random_state=42) \n",
      "\n",
      "Cross-Validation Accuracy: 86.2098 \n",
      " \n",
      "\n",
      "RandomForestClassifier(random_state=42) \n",
      "\n",
      "Cross-Validation Accuracy: 86.2098 \n",
      " \n",
      "\n",
      "LogisticRegression(max_iter=1000, random_state=0) \n",
      "\n",
      "Cross-Validation Accuracy: 86.1435 \n",
      " \n",
      "\n",
      "DecisionTreeClassifier(random_state=42) \n",
      "\n",
      "Cross-Validation Accuracy: 86.0939 \n",
      " \n",
      "\n",
      "MultinomialNB() \n",
      "\n",
      "Cross-Validation Accuracy: 83.3623 \n",
      " \n",
      "\n"
     ]
    }
   ],
   "source": [
    "models = [RandomForestClassifier(random_state=42),RandomForestClassifier(random_state=42),\n",
    "            LogisticRegression(random_state=0,max_iter=1000),DecisionTreeClassifier(random_state=42),MultinomialNB()\n",
    "         ]\n",
    "for model in models:\n",
    "    print(model, '\\n')\n",
    "    score = cross_val_score(model, X_train, y_train, scoring='accuracy', cv=5).mean()\n",
    "    print('Cross-Validation Accuracy:', round(score*100, 4), '\\n', '\\n')"
   ]
  }
 ],
 "metadata": {
  "kernelspec": {
   "display_name": "base",
   "language": "python",
   "name": "python3"
  },
  "language_info": {
   "codemirror_mode": {
    "name": "ipython",
    "version": 3
   },
   "file_extension": ".py",
   "mimetype": "text/x-python",
   "name": "python",
   "nbconvert_exporter": "python",
   "pygments_lexer": "ipython3",
   "version": "3.9.6"
  },
  "orig_nbformat": 4
 },
 "nbformat": 4,
 "nbformat_minor": 2
}
