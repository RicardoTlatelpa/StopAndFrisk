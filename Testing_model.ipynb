{
 "cells": [
  {
   "cell_type": "code",
   "execution_count": 47,
   "metadata": {},
   "outputs": [],
   "source": [
    "import pandas as pd\n",
    "import numpy as np\n",
    "import matplotlib.pyplot as plt\n",
    "from sklearn.preprocessing import LabelBinarizer\n",
    "from sklearn.preprocessing import OneHotEncoder, LabelEncoder\n",
    "from sklearn.model_selection import train_test_split\n",
    "from sklearn.linear_model import LinearRegression\n",
    "from sklearn.dummy import DummyRegressor\n",
    "from sklearn.metrics import mean_squared_error\n",
    "from sklearn.feature_extraction.text import CountVectorizer\n",
    "from sklearn.ensemble import RandomForestClassifier\n",
    "from sklearn.metrics import accuracy_score\n",
    "\n",
    "dummy_reg = DummyRegressor(strategy=\"mean\")\n",
    "\n",
    "Test_Target = [\"SUSPECT_ARRESTED_FLAG\",\"FIREARM_FLAG\", \"STOP_DURATION_MINUTES\", \"STOP_DURATION_MINUTES\"]\n",
    "Test1 = pd.read_excel(\"sqf2022.xlsx\", usecols=Test_Target)\n",
    "Feature_test=[\"FIREARM_FLAG\", \"STOP_DURATION_MINUTES\", \"STOP_DURATION_MINUTES\"]\n",
    "\n",
    "\n",
    "\n",
    "Test1['FIREARM_FLAG'] = Test1['FIREARM_FLAG'].replace('(null)', 'No')\n",
    "Test1.replace('(null)', float('nan'), inplace=True)\n",
    "\n",
    "lb = LabelBinarizer()\n",
    "Test1[\"SUSPECT_ARRESTED_FLAG\"] = lb.fit_transform(Test1[\"SUSPECT_ARRESTED_FLAG\"])\n",
    "Test1[\"FIREARM_FLAG\"] = lb.fit_transform(Test1[\"FIREARM_FLAG\"])\n",
    "X = Test1[[\"SUSPECT_ARRESTED_FLAG\"]]\n",
    "y = Test1[Feature_test]\n",
    "Test1.to_csv('output.csv', index=False)\n",
    "\n",
    "\n",
    "train_data,test_data=train_test_split(Test1,test_size=0.2,random_state=42)\n",
    "#X_train, X_test, y_train, y_test = train_test_split(X, y, test_size=.2, random_state=20)\n",
    "#dummy_reg.fit(X_train, y_train)\n",
    "#y_train_predict = dummy_reg.predict(X_train)\n",
    "\n",
    "#trainerror = mean_squared_error(y_train, y_train_predict, squared=False)\n",
    "\n",
    "#y_test_pred = dummy_reg.predict(X_test)\n",
    "#testerror = mean_squared_error(y_test, y_test_pred, squared=False)\n",
    "\n",
    "#print(\"Training error:\", trainerror)\n",
    "#print(\"Test error:\", testerror)\n"
   ]
  },
  {
   "cell_type": "code",
   "execution_count": 48,
   "metadata": {},
   "outputs": [
    {
     "name": "stdout",
     "output_type": "stream",
     "text": [
      "Accuracy: 0.7338796457246917\n"
     ]
    }
   ],
   "source": [
    "model_R = RandomForestClassifier(n_estimators=100)\n",
    "model_R.fit(train_data[Feature_test], train_data[\"SUSPECT_ARRESTED_FLAG\"])\n",
    "y_pred=model_R.predict(train_data[Feature_test])\n",
    "accuracy = accuracy_score(train_data[\"SUSPECT_ARRESTED_FLAG\"], y_pred)\n",
    "print('Accuracy:', accuracy)\n"
   ]
  },
  {
   "cell_type": "code",
   "execution_count": 49,
   "metadata": {},
   "outputs": [
    {
     "name": "stdout",
     "output_type": "stream",
     "text": [
      "RMSE:  0.43523548445268373\n",
      "Train_RMSE: 0.4394223770188287\n"
     ]
    }
   ],
   "source": [
    "model = LinearRegression()\n",
    "model.fit(train_data[Feature_test], train_data[\"SUSPECT_ARRESTED_FLAG\"])\n",
    "predictions=model.predict(test_data[Feature_test])\n",
    "train_predictions=model.predict(train_data[Feature_test])\n",
    "rmse = mean_squared_error(test_data[\"SUSPECT_ARRESTED_FLAG\"],predictions,squared=False)\n",
    "print('RMSE: ', rmse)\n",
    "train_rmse=mean_squared_error(train_data[\"SUSPECT_ARRESTED_FLAG\"],train_predictions,squared=False)\n",
    "print(\"Train_RMSE:\",train_rmse)"
   ]
  }
 ],
 "metadata": {
  "kernelspec": {
   "display_name": "base",
   "language": "python",
   "name": "python3"
  },
  "language_info": {
   "codemirror_mode": {
    "name": "ipython",
    "version": 3
   },
   "file_extension": ".py",
   "mimetype": "text/x-python",
   "name": "python",
   "nbconvert_exporter": "python",
   "pygments_lexer": "ipython3",
   "version": "3.9.13"
  },
  "orig_nbformat": 4
 },
 "nbformat": 4,
 "nbformat_minor": 2
}
